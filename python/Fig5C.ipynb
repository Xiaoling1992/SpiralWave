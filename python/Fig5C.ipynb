{
 "cells": [
  {
   "cell_type": "code",
   "execution_count": 2,
   "metadata": {},
   "outputs": [],
   "source": [
    "import cv2\n",
    "import matplotlib.pyplot as plt\n",
    "import numpy as np"
   ]
  },
  {
   "cell_type": "code",
   "execution_count": 17,
   "metadata": {},
   "outputs": [],
   "source": [
    "#Get new figure 5C. append\n",
    "slope=255/1.4\n",
    "b= 0.4*slope\n",
    "threshold= slope*(0.2)+b  #v> 0.2: wavefront.  #v> 0.2: wavefront.\n",
    "#I can not assume, there are so many variables, they should not colide...\n",
    "#names=[\"Spi7_R11Rho0t240p420c10_T200\", \"Spi7_R11Rho0t240p420c10_T218\", \"Spi7_R11Rho0t240p420c10_T230\", \"Spi7_R11Rho0t240p420c10_T248\"]\n",
    "names=[\"Spi7_R11Rho0t240p420c10_T200_1\", \"Spi7_R11Rho0t240p420c10_T218_1\", \"Spi7_R11Rho0t240p420c10_T230_1\", \"Spi7_R11Rho0t240p420c10_T248_1\"]\n",
    "backs=[\"Spi7_R11_Rho0t240p420c10_OCC_T200_1\", \"Spi7_R11_Rho0t240p420c10_OCC_T218_1\", \"Spi7_R11_Rho0t240p420c10_OCC_T230_1\", \"Spi7_R11_Rho0t240p420c10_OCC_T248_1\"]\n",
    "for k in range( len(names) ):\n",
    "    image = cv2.imread( \"/home/xiaoling/SpiralWave/PapFig/\"+ names[k] +  \".png\", 1  ) \n",
    "    #image = cv2.imread(\"/home/xiaoling/SpiralWave/Review/\"+ names[i] +  \"_1.png\", 1  ) #Opencv always (AFAIK) uses BGR channel order\n",
    "    image = cv2.resize(image, (1839, 1523) )\n",
    "    \n",
    "    back= cv2.imread(\"/home/xiaoling/SpiralWave/PapFig/\"+ backs[k] +  \".png\", 1  )\n",
    "    back= cv2.resize( back, (1839, 1523) )\n",
    "    for i in range( len(image) ):\n",
    "        for j in range( len(image[0]) ):\n",
    "            if np.sum( back[i,j, :] )>= 200*2 and np.sum( back[i,j, :] )<= 255*2: #keep cyan wave head trace\n",
    "                pass\n",
    "            elif np.sum( image[i,j, :] )>= threshold*2 and np.sum( image[i,j, :] )<= 255*2: #wave front\n",
    "                back[i, j, : ]= [0, 0, image[i,j,0] ]\n",
    "            #else: keep the white background\n",
    "    cv2.imwrite(\"/home/xiaoling/SpiralWave/PapFig/\"+ names[k] +\"_3.png\", back)\n"
   ]
  },
  {
   "cell_type": "code",
   "execution_count": 14,
   "metadata": {},
   "outputs": [
    {
     "name": "stdout",
     "output_type": "stream",
     "text": [
      "109.2857142857143\n"
     ]
    }
   ],
   "source": [
    "slope=255/1.4\n",
    "b= 0.4*slope\n",
    "threshold= slope*(0.2)+b  #v> 0.2: wavefront.\n",
    "print( threshold )"
   ]
  },
  {
   "cell_type": "code",
   "execution_count": 7,
   "metadata": {},
   "outputs": [
    {
     "data": {
      "text/plain": [
       "12005313"
      ]
     },
     "execution_count": 7,
     "metadata": {},
     "output_type": "execute_result"
    }
   ],
   "source": [
    "k=0\n",
    "backs=[\"Spi7_R11_Rho0t240p420c10_OCC_T200_1\", \"Spi7_R11_Rho0t240p420c10_OCC_T218_1\", \"Spi7_R11_Rho0t240p420c10_OCC_T230_1\", \"Spi7_R11_Rho0t240p420c10_OCC_T248_1\"]\n",
    "back= cv2.imread(\"/home/xiaoling/SpiralWave/PapFig/\"+ backs[k] +  \".png\", 1  )\n"
   ]
  },
  {
   "cell_type": "code",
   "execution_count": 64,
   "metadata": {},
   "outputs": [],
   "source": [
    "#convert figure 5F, 5G, trace to cyan\n",
    "\n",
    "names=[\"Spi11Rho95Phi500t9c10_OCCinWF\", \"Spi12Rho95Phi960t9c10_OCCinWF\"]\n",
    "for name in names:\n",
    "    image = cv2.imread(\"/home/xiaoling/SpiralWave/PapFig/\"+ name +  \".png\", 1  ) #Opencv always (AFAIK) uses BGR channel order\n",
    "    #image = cv2.resize(image, (1839, 1523) )\n",
    "    for i in range( len(image) ):\n",
    "        for j in range( len(image[0]) ):\n",
    "            if np.mean( image[i,j, :] )> 50 and np.mean( image[i,j, :] )< 200: ##Opencv always (AFAIK) uses BGR channel order\n",
    "                image[i, j, 0]= 255\n",
    "                image[i, j, 1]= 255\n",
    "                image[i, j, 2]= 0\n",
    "    cv2.imwrite(\"/home/xiaoling/SpiralWave/PapFig/\"+ name +\"_1.png\", image)\n",
    "\n"
   ]
  },
  {
   "cell_type": "code",
   "execution_count": null,
   "metadata": {},
   "outputs": [],
   "source": []
  }
 ],
 "metadata": {
  "kernelspec": {
   "display_name": "Python 3",
   "language": "python",
   "name": "python3"
  },
  "language_info": {
   "codemirror_mode": {
    "name": "ipython",
    "version": 3
   },
   "file_extension": ".py",
   "mimetype": "text/x-python",
   "name": "python",
   "nbconvert_exporter": "python",
   "pygments_lexer": "ipython3",
   "version": "3.6.8"
  }
 },
 "nbformat": 4,
 "nbformat_minor": 2
}
