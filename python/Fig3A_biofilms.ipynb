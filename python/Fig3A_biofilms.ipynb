{
 "cells": [
  {
   "cell_type": "code",
   "execution_count": 1,
   "metadata": {},
   "outputs": [],
   "source": [
    "#plot biofilms phi=0.5, rho=0, 0.2, 0.4, 0.6, 0.8, 1.0\n",
    "import cv2\n",
    "import matplotlib.pyplot as plt\n",
    "import numpy as np"
   ]
  },
  {
   "cell_type": "code",
   "execution_count": 31,
   "metadata": {},
   "outputs": [
    {
     "data": {
      "image/png": "[encoded data removed]",
      "text/plain": [
       "<Figure size 288x468 with 6 Axes>"
      ]
     },
     "metadata": {},
     "output_type": "display_data"
    }
   ],
   "source": [
    "\n",
    "names= ['Spi11Rho0Phi500t9c10_map_Fig3A.dat', 'Spi11Rho20Phi500t9c10_map_Fig3A.dat', 'Spi11Rho40Phi500t9c10_map_Fig3A.dat', 'Spi11Rho60Phi500t9c10_map_Fig3A.dat', 'Spi11Rho80Phi500t9c10_map_Fig3A.dat', 'Spi11Rho100Phi500t9c10_map_Fig3A.dat']\n",
    "phis=[0, 0.2, 0.4, 0.6, 0.8, 1.0]\n",
    "plt.figure( figsize= (4, 6.5) )\n",
    "for k in range( len(names) ):\n",
    "    plt.subplot(3,2,k+1)\n",
    "    data= np.loadtxt(\"/home/xiaoling/SpiralWave/data/\"+ names[k])\n",
    "    image= np.zeros( (100, 100, 3), dtype= int )\n",
    "    for i in range(100):\n",
    "        for j in range(100):\n",
    "            if data[i+100, j]> 5:\n",
    "                image[i,j,0]= 255\n",
    "                image[i,j,1]= 255\n",
    "                image[i,j,2]= 255\n",
    "                \n",
    "\n",
    "    plt.imshow(image)\n",
    "    plt.title(r\"$\\rho= $\"+ str(phis[k]), fontsize= 13 )\n",
    "    plt.xticks( [] )\n",
    "    plt.yticks( [] )\n",
    "                \n",
    "\n",
    "plt.savefig(\"/home/xiaoling/SpiralWave/PapFig/Biofilms_Rho_Phi50_fig3A.png\", dpi=500)"
   ]
  },
  {
   "cell_type": "code",
   "execution_count": 7,
   "metadata": {},
   "outputs": [
    {
     "data": {
      "text/plain": [
       "10.0"
      ]
     },
     "execution_count": 7,
     "metadata": {},
     "output_type": "execute_result"
    }
   ],
   "source": [
    "names= ['Spi11Rho0Phi500t9c10_map_Fig3A.dat', 'Spi11Rho20Phi500t9c10_map_Fig3A.dat', 'Spi11Rho40Phi500t9c10_map_Fig3A.dat', 'Spi11Rho60Phi500t9c10_map_Fig3A.dat', 'Spi11Rho80Phi500t9c10_map_Fig3A.dat', 'Spi11Rho100Phi500t9c10_map_Fig3A.dat']\n",
    "data= np.loadtxt(\"/home/xiaoling/SpiralWave/data/\"+ names[0])\n",
    "data[210, 19]"
   ]
  },
  {
   "cell_type": "code",
   "execution_count": 18,
   "metadata": {},
   "outputs": [
    {
     "data": {
      "text/plain": [
       "array([[[1, 1, 1],\n",
       "        [1, 1, 1],\n",
       "        [1, 1, 1],\n",
       "        ...,\n",
       "        [1, 1, 1],\n",
       "        [1, 1, 1],\n",
       "        [1, 1, 1]],\n",
       "\n",
       "       [[1, 1, 1],\n",
       "        [1, 1, 1],\n",
       "        [1, 1, 1],\n",
       "        ...,\n",
       "        [1, 1, 1],\n",
       "        [1, 1, 1],\n",
       "        [1, 1, 1]],\n",
       "\n",
       "       [[1, 1, 1],\n",
       "        [1, 1, 1],\n",
       "        [1, 1, 1],\n",
       "        ...,\n",
       "        [1, 1, 1],\n",
       "        [1, 1, 1],\n",
       "        [1, 1, 1]],\n",
       "\n",
       "       ...,\n",
       "\n",
       "       [[0, 0, 0],\n",
       "        [0, 0, 0],\n",
       "        [0, 0, 0],\n",
       "        ...,\n",
       "        [0, 0, 0],\n",
       "        [0, 0, 0],\n",
       "        [0, 0, 0]],\n",
       "\n",
       "       [[0, 0, 0],\n",
       "        [0, 0, 0],\n",
       "        [0, 0, 0],\n",
       "        ...,\n",
       "        [0, 0, 0],\n",
       "        [0, 0, 0],\n",
       "        [0, 0, 0]],\n",
       "\n",
       "       [[0, 0, 0],\n",
       "        [0, 0, 0],\n",
       "        [0, 0, 0],\n",
       "        ...,\n",
       "        [0, 0, 0],\n",
       "        [0, 0, 0],\n",
       "        [0, 0, 0]]])"
      ]
     },
     "execution_count": 18,
     "metadata": {},
     "output_type": "execute_result"
    }
   ],
   "source": [
    "image"
   ]
  },
  {
   "cell_type": "code",
   "execution_count": null,
   "metadata": {},
   "outputs": [],
   "source": []
  }
 ],
 "metadata": {
  "kernelspec": {
   "display_name": "Python 3",
   "language": "python",
   "name": "python3"
  },
  "language_info": {
   "codemirror_mode": {
    "name": "ipython",
    "version": 3
   },
   "file_extension": ".py",
   "mimetype": "text/x-python",
   "name": "python",
   "nbconvert_exporter": "python",
   "pygments_lexer": "ipython3",
   "version": "3.6.8"
  }
 },
 "nbformat": 4,
 "nbformat_minor": 2
}
