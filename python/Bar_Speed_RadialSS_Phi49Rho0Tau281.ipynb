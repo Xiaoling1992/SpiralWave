{
 "cells": [
  {
   "cell_type": "code",
   "execution_count": 1,
   "metadata": {},
   "outputs": [],
   "source": [
    "import numpy as np    \n",
    "import matplotlib.pyplot as plt  \n",
    "from matplotlib.animation import FuncAnimation \n",
    "from matplotlib import cm\n",
    "from numpy.random import randn"
   ]
  },
  {
   "cell_type": "code",
   "execution_count": 7,
   "metadata": {},
   "outputs": [],
   "source": [
    "#collected time, x, Y information of secondary spiral\n",
    "time_loc=[\n",
    "[160, 71, 64,\n",
    "164, 74, 68,\n",
    "168, 76, 71,\n",
    "172, 79, 77,\n",
    "176, 78, 82,\n",
    "180, 71, 78,\n",
    "184, 67, 73,\n",
    "188, 67, 65,\n",
    "192, 69, 60,\n",
    "196, 57, 58],\n",
    "\n",
    "[160, 82, 66,\n",
    "164, 77, 66,\n",
    "168, 73, 62,\n",
    "172, 66, 60,\n",
    "176, 61, 57,\n",
    "180, 59, 54,\n",
    "184, 61, 50,\n",
    "188, 65, 47,\n",
    "192, 71, 44,\n",
    "196, 72, 36],\n",
    "    \n",
    "[56, 67, 34,\n",
    "60, 62, 34,\n",
    "64, 56, 26,\n",
    "68, 54, 32,\n",
    "72, 57, 36,\n",
    "76, 47, 39,\n",
    "80, 50, 44,\n",
    "84, 53, 46,\n",
    "88, 49, 54,\n",
    "92, 53, 50],\n",
    "    \n",
    "[74, 65, 56,\n",
    "78, 70, 59,\n",
    "82, 69, 64,\n",
    "86, 67, 68,\n",
    "90, 64, 70,\n",
    "94, 64, 78,\n",
    "98, 63, 81,\n",
    "102, 60, 78,\n",
    "106, 55, 74,\n",
    "110, 46, 76]\n",
    "    \n",
    "]    "
   ]
  },
  {
   "cell_type": "code",
   "execution_count": 8,
   "metadata": {},
   "outputs": [],
   "source": [
    "#calculate the speed of SS\n",
    "speed= []\n",
    "for i in range( len(time_loc) ):  #ith spiral wave\n",
    "    time, dis= 0, 0\n",
    "    for j in range(1, len(time_loc[i])//3 ): #jth measurement\n",
    "        time+= time_loc[i][j*3+ 0]- time_loc[i][j*3-3]\n",
    "        dis+= np.sqrt(  (time_loc[i][j*3+1]- time_loc[i][j*3+1-3] )**2+ (time_loc[i][j*3+2]- time_loc[i][j*3+2-3])**2  )\n",
    "    speed.append(dis/ time)\n",
    "    \n",
    "        "
   ]
  },
  {
   "cell_type": "code",
   "execution_count": 1,
   "metadata": {},
   "outputs": [
    {
     "ename": "NameError",
     "evalue": "name 'np' is not defined",
     "output_type": "error",
     "traceback": [
      "\u001b[0;31m---------------------------------------------------------------------------\u001b[0m",
      "\u001b[0;31mNameError\u001b[0m                                 Traceback (most recent call last)",
      "\u001b[0;32m<ipython-input-1-8b98797ee0e2>\u001b[0m in \u001b[0;36m<module>\u001b[0;34m\u001b[0m\n\u001b[0;32m----> 1\u001b[0;31m \u001b[0mnp\u001b[0m\u001b[0;34m.\u001b[0m\u001b[0msqrt\u001b[0m\u001b[0;34m(\u001b[0m\u001b[0;36m5\u001b[0m\u001b[0;34m)\u001b[0m\u001b[0;34m\u001b[0m\u001b[0;34m\u001b[0m\u001b[0m\n\u001b[0m",
      "\u001b[0;31mNameError\u001b[0m: name 'np' is not defined"
     ]
    }
   ],
   "source": [
    "np.sqrt(5)"
   ]
  },
  {
   "cell_type": "code",
   "execution_count": 44,
   "metadata": {},
   "outputs": [
    {
     "data": {
      "text/plain": [
       "(1.85, 1.547796169165704)"
      ]
     },
     "execution_count": 44,
     "metadata": {},
     "output_type": "execute_result"
    }
   ],
   "source": [
    "h_x_r, h_x_e"
   ]
  },
  {
   "cell_type": "code",
   "execution_count": 56,
   "metadata": {},
   "outputs": [
    {
     "data": {
      "image/png": "[encoded data removed]",
      "text/plain": [
       "<Figure size 432x288 with 1 Axes>"
      ]
     },
     "metadata": {
      "needs_background": "light"
     },
     "output_type": "display_data"
    }
   ],
   "source": [
    "plt.figure()\n",
    "h_x_r= (93- 56)/(22- 2) #radial\n",
    "h_x_e=np.mean( speed ); #spiral\n",
    "\n",
    "d_x_r= 0\n",
    "d_x_e= np.std( speed ) #/np.sqrt( len(cor_lens[1]) ); #standard error\n",
    "\n",
    "\n",
    "\n",
    "x_r=[[1, 2, 2, 1], [0,0, h_x_r, h_x_r]];\n",
    "x_e=[[3, 4, 4, 3], [0,0, h_x_e, h_x_e]];\n",
    "\n",
    "\n",
    "plt.fill(x_r[0],x_r[1], color=[0, 0.5, 0.5]);\n",
    "plt.fill(x_e[0],x_e[1], color=[1, 0, 0]);\n",
    "\n",
    "\n",
    "\n",
    "#Start to plot the error bar\n",
    "delta=0.1;\n",
    "X_x_r=[ [ 1.5- delta, 1.5+ delta], [ 1.5- delta, 1.5+ delta], [1.5, 1.5]  ];\n",
    "Y_x_r=[[h_x_r- d_x_r, h_x_r- d_x_r ], [ h_x_r+ d_x_r, h_x_r+ d_x_r], [ h_x_r- d_x_r, h_x_r+ d_x_r] ];\n",
    "\n",
    "X_x_e=[ [ 3.5- delta, 3.5+ delta], [ 3.5- delta, 3.5+ delta], [3.5, 3.5]  ];\n",
    "Y_x_e=[[h_x_e- d_x_e, h_x_e- d_x_e ], [ h_x_e+ d_x_e, h_x_e+ d_x_e], [ h_x_e- d_x_e, h_x_e+ d_x_e] ];\n",
    "\n",
    "\n",
    "\n",
    "\n",
    "\n",
    "for i in range(3):\n",
    "    plt.plot( X_x_e[i], Y_x_e[i], color=[0,0,0], linewidth=2);\n",
    "    plt.plot( X_x_r[i], Y_x_r[i], color=[0,0,0], linewidth=2);\n",
    "\n",
    "\n",
    "\n",
    "#frame=[ [1.2, 1.2, 2.8, 2.8], [h_x_r, h_x_e+ 0.2, h_x_e+0.2, h_x_e]];\n",
    "#frame=[ [ 1.2, 2.8], [ h_x_e+ 0.2, h_x_e+0.2]];\n",
    "#plt.plot( frame[0], frame[1],  color=[0.1,0.1,0.1], linewidth=2 )\n",
    "\n",
    "plt.text(1.1, 1.95, r'$Radial\\ prop.$', fontsize=14,  color=[0, 0.5, 0.5]);\n",
    "plt.text(2.93, 1.8, r'$Secondary\\ spiral$', fontsize=14, color=[1, 0, 0]);\n",
    "#plt.text(4.9, h_y_e+ 0.28, '*', fontsize=15, fontweight='bold',  color=[0, 0, 0]);\n",
    "#plt.text(1.9, h_x_e+ 0.18, '*', fontsize=15, fontweight='bold',  color=[0, 0, 0]);\n",
    "\n",
    "plt.ylabel(r\"$Speed$\", fontsize=14);\n",
    "plt.xticks([], [], fontsize=10)\n",
    "plt.yticks( [0, 0.5, 1.5, 2],  rotation=90, fontsize=12  )\n",
    "\n",
    "\n",
    "#plt.yticks(rotation=90, fontsize=7 );\n",
    "plt.ylim([-0.1, 2.1])\n",
    "#plt.title(\"Xiaoling's practice\", fontsize=18)\n",
    "#plt.legend([line1, line2], ['ex1','ex2'])\n",
    "\n",
    "#plt.savefig(\"plot_2curves.eps\", dpi=300)\n",
    "\n",
    "#blue_line = mlines.Line2D([], [], color='blue', marker='*',\n",
    "                          #markersize=15, label='Blue stars')\n",
    "#plt.legend(handles=[blue_line])\n",
    "\n",
    "#plt.text(-0.3, 1.8, 'C', fontsize=12, fontweight='bold');\n",
    "plt.tight_layout()\n",
    "\n",
    "#plt.savefig(\"/home/xiaoling/correlated_percolation/figures/CorFun_CorLen_Fig1_v11.pdf\", format='pdf');\n",
    "plt.savefig(\"/home/xiaoling/SpiralWave/PapFig/Bar_speed_RadialSS_Phi49Rho0Tau281.png\", dpi=600, format='png');\n",
    "plt.show()"
   ]
  },
  {
   "cell_type": "code",
   "execution_count": 55,
   "metadata": {},
   "outputs": [
    {
     "data": {
      "image/png": "[encoded data removed]",
      "text/plain": [
       "<Figure size 432x288 with 1 Axes>"
      ]
     },
     "metadata": {
      "needs_background": "light"
     },
     "output_type": "display_data"
    }
   ],
   "source": [
    "plt.figure()\n",
    "epsilon= 10\n",
    "h_x_p= np.sqrt(epsilon/2)\n",
    "h_x_r= (93- 56)/(22- 2) #radial\n",
    "h_x_e=np.mean( speed ); #spiral\n",
    "\n",
    "d_x_r= 0\n",
    "d_x_e= np.std( speed ) #/np.sqrt( len(cor_lens[1]) ); #standard error\n",
    "\n",
    "\n",
    "x_p=[[-1, 0, 0, -1], [0,0, h_x_p, h_x_p]];\n",
    "x_r=[[1, 2, 2, 1], [0,0, h_x_r, h_x_r]];\n",
    "x_e=[[3, 4, 4, 3], [0,0, h_x_e, h_x_e]];\n",
    "\n",
    "plt.fill(x_p[0],x_p[1], color=[0, 1, 0]);\n",
    "plt.fill(x_r[0],x_r[1], color=[0, 0.5, 0.5]);\n",
    "plt.fill(x_e[0],x_e[1], color=[1, 0, 0]);\n",
    "\n",
    "\n",
    "\n",
    "#Start to plot the error bar\n",
    "delta=0.1;\n",
    "X_x_r=[ [ 1.5- delta, 1.5+ delta], [ 1.5- delta, 1.5+ delta], [1.5, 1.5]  ];\n",
    "Y_x_r=[[h_x_r- d_x_r, h_x_r- d_x_r ], [ h_x_r+ d_x_r, h_x_r+ d_x_r], [ h_x_r- d_x_r, h_x_r+ d_x_r] ];\n",
    "\n",
    "X_x_e=[ [ 3.5- delta, 3.5+ delta], [ 3.5- delta, 3.5+ delta], [3.5, 3.5]  ];\n",
    "Y_x_e=[[h_x_e- d_x_e, h_x_e- d_x_e ], [ h_x_e+ d_x_e, h_x_e+ d_x_e], [ h_x_e- d_x_e, h_x_e+ d_x_e] ];\n",
    "\n",
    "\n",
    "\n",
    "\n",
    "\n",
    "for i in range(3):\n",
    "    plt.plot( X_x_e[i], Y_x_e[i], color=[0,0,0], linewidth=2);\n",
    "    plt.plot( X_x_r[i], Y_x_r[i], color=[0,0,0], linewidth=2);\n",
    "\n",
    "\n",
    "\n",
    "#frame=[ [1.2, 1.2, 2.8, 2.8], [h_x_r, h_x_e+ 0.2, h_x_e+0.2, h_x_e]];\n",
    "#frame=[ [ 1.2, 2.8], [ h_x_e+ 0.2, h_x_e+0.2]];\n",
    "#plt.plot( frame[0], frame[1],  color=[0.1,0.1,0.1], linewidth=2 )\n",
    "plt.text(-1, 2.3, r'$Predicted$', fontsize=14,  color=[0, 1, 0]);\n",
    "plt.text(0.9, 1.95, r'$Radial\\ prop.$', fontsize=14,  color=[0, 0.5, 0.5]);\n",
    "plt.text(2.4, 1.8, r'$Secondary\\ spiral$', fontsize=14, color=[1, 0, 0]);\n",
    "#plt.text(4.9, h_y_e+ 0.28, '*', fontsize=15, fontweight='bold',  color=[0, 0, 0]);\n",
    "#plt.text(1.9, h_x_e+ 0.18, '*', fontsize=15, fontweight='bold',  color=[0, 0, 0]);\n",
    "\n",
    "plt.ylabel(r\"$Speed$\", fontsize=14);\n",
    "plt.xticks([], [], fontsize=10)\n",
    "plt.yticks( [0, 0.5, 1.5, 2],  rotation=90, fontsize=12  )\n",
    "\n",
    "\n",
    "#plt.yticks(rotation=90, fontsize=7 );\n",
    "plt.ylim([-0.1, 2.5])\n",
    "#plt.title(\"Xiaoling's practice\", fontsize=18)\n",
    "#plt.legend([line1, line2], ['ex1','ex2'])\n",
    "\n",
    "#plt.savefig(\"plot_2curves.eps\", dpi=300)\n",
    "\n",
    "#blue_line = mlines.Line2D([], [], color='blue', marker='*',\n",
    "                          #markersize=15, label='Blue stars')\n",
    "#plt.legend(handles=[blue_line])\n",
    "\n",
    "#plt.text(-0.3, 1.8, 'C', fontsize=12, fontweight='bold');\n",
    "plt.tight_layout()\n",
    "\n",
    "#plt.savefig(\"/home/xiaoling/correlated_percolation/figures/CorFun_CorLen_Fig1_v11.pdf\", format='pdf');\n",
    "plt.savefig(\"/home/xiaoling/SpiralWave/PapFig/Bar_speed_PRadialSS_Phi49Rho0Tau281.png\", dpi=600, format='png');\n",
    "plt.show()"
   ]
  },
  {
   "cell_type": "code",
   "execution_count": null,
   "metadata": {},
   "outputs": [],
   "source": []
  }
 ],
 "metadata": {
  "kernelspec": {
   "display_name": "Python 3",
   "language": "python",
   "name": "python3"
  },
  "language_info": {
   "codemirror_mode": {
    "name": "ipython",
    "version": 3
   },
   "file_extension": ".py",
   "mimetype": "text/x-python",
   "name": "python",
   "nbconvert_exporter": "python",
   "pygments_lexer": "ipython3",
   "version": "3.6.8"
  }
 },
 "nbformat": 4,
 "nbformat_minor": 2
}
