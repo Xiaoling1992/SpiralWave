{
 "cells": [
  {
   "cell_type": "code",
   "execution_count": 4,
   "metadata": {},
   "outputs": [],
   "source": [
    "#If the distribution skewness of one feature is more than 0.5, do log_transform.\n",
    "# Imports\n",
    "import numpy as np\n",
    "from scipy.stats import skew\n",
    "import scipy.stats as stats\n",
    "from scipy.stats import skew\n",
    "from scipy.special import zeta, polygamma, factorial\n",
    "import matplotlib.pyplot as plt\n",
    "\n",
    "\n",
    "import seaborn as sns\n",
    "\n",
    "import pandas as pd\n",
    "from sklearn.model_selection import cross_val_score, train_test_split\n",
    "from sklearn.preprocessing import StandardScaler\n",
    "from sklearn.linear_model import LinearRegression, Ridge, Lasso, RidgeCV, LassoCV, ElasticNetCV\n",
    "from sklearn.metrics import mean_squared_error, make_scorer\n",
    "from IPython.display import display\n",
    "\n",
    "from xgboost import XGBRegressor"
   ]
  },
  {
   "cell_type": "code",
   "execution_count": 12,
   "metadata": {},
   "outputs": [
    {
     "data": {
      "image/png": "[encoded data removed]",
      "text/plain": [
       "<matplotlib.figure.Figure at 0x7f1b67c1ceb8>"
      ]
     },
     "metadata": {},
     "output_type": "display_data"
    }
   ],
   "source": [
    "\n",
    "\n",
    "def L(alpha, x_min, xs):\n",
    "    n=len(xs);\n",
    "    likelihood= -n*np.log( zeta(alpha, x_min) )- alpha* np.sum(np.log(xs));\n",
    "    return likelihood;\n",
    "\n",
    "\n",
    "colors=[\n",
    "    [1, 0, 0],\n",
    "    [0, 1, 0],\n",
    "    [0, 0, 1],\n",
    "    [0, 1, 1],\n",
    "    [1, 0, 1]  ];\n",
    "\n",
    "x_min=10    \n",
    "i=3;\n",
    "#cluster_sizes_Phi50=np.loadtxt('/home/xiaoling/correlated_percolation/data/Fra11PhiM'+str( int( 0.5*10000) )+'Sig'+ str(int (0*1000) )+ 'Rho'+ str( int(0*100) )+ 'TH35W230_Clu.dat')\n",
    "cluster_sizes_Phi50=np.loadtxt('/home/xiaoling/correlated_percolation/data/Fra9Phi5000Rho0TH90W90_Clu.dat');\n",
    "xs=cluster_sizes_Phi50[  cluster_sizes_Phi50<1000 ];\n",
    "\n",
    "alphas= np.arange(1.2, 2.5, 0.01);\n",
    "likelihoods=np.array([ L(alpha,x_min, xs) for alpha in alphas]);\n",
    "plt.plot(alphas, likelihoods, linestyle='-', color=colors[i], linewidth=2);\n",
    "\n",
    "#plt.plot(alphas, likelihoods, linestyle='-', color=colors[i], linewidth=2, marker='o', markerfacecolor=colors[i], markeredgecolor=colors[i], markersize=7, label=labels[i]);\n",
    "\n",
    "\n",
    "\n",
    "plt.xlabel(r'$\\alpha$', fontsize=16);\n",
    "plt.ylabel(r'$L$', fontsize=16);\n",
    "#plt.legend(loc=\"lower left\",fontsize=12);\n",
    "\n",
    "#plt.xticks([0.32, 0.41, 0.5, 0.6],['0.32', r'$p_c$',  '0.5','0.6'], rotation=90)\n",
    "#plt.text(phis[phis==0.32]-0.005, period[0, phis==0.32]-10, 'B', fontsize=14, fontweight='bold')\n",
    "plt.savefig(\"/home/xiaoling/correlated_percolation/figures/MaxArg_LAlpha_Phi50Rho0_Fra11.png\", dpi=500)\n",
    "plt.show()"
   ]
  },
  {
   "cell_type": "code",
   "execution_count": 7,
   "metadata": {},
   "outputs": [],
   "source": [
    "def L(alpha, x_min, xs):\n",
    "    n=len(xs);\n",
    "    likelihood= -n*np.log( zeta(alpha, x_min) )- alpha* np.sum(np.log(xs));\n",
    "    return likelihood;\n",
    "#alpha ~ x_min\n",
    "cluster_sizes_Phi50=np.loadtxt('/home/xiaoling/correlated_percolation/data/Fra9Phi5000Rho0TH90W90_Clu.dat');\n",
    "xs=cluster_sizes_Phi50[  cluster_sizes_Phi50<1000 ];\n",
    "\n",
    "x_mins=np.arange(1, 16, 1); \n",
    "alphas= np.arange(1.2, 2.5, 0.01);\n",
    "alphas_opt=[]\n",
    "\n",
    "for x_min in x_mins:   \n",
    "    xs_= xs[xs>= x_min]\n",
    "    likelihoods=np.array([ L(alpha,x_min, xs_) for alpha in alphas]);\n",
    "    alphas_opt.append( alphas[  likelihoods==max(likelihoods)  ][0]  );\n",
    "    \n"
   ]
  },
  {
   "cell_type": "code",
   "execution_count": 8,
   "metadata": {},
   "outputs": [
    {
     "data": {
      "text/plain": [
       "[1.6600000000000004,\n",
       " 1.7400000000000004,\n",
       " 1.7800000000000005,\n",
       " 1.7900000000000005,\n",
       " 1.8100000000000005,\n",
       " 1.8200000000000005,\n",
       " 1.8300000000000005,\n",
       " 1.8400000000000005,\n",
       " 1.8500000000000005,\n",
       " 1.8600000000000005,\n",
       " 1.8600000000000005,\n",
       " 1.8700000000000006,\n",
       " 1.8700000000000006,\n",
       " 1.8800000000000006,\n",
       " 1.8800000000000006]"
      ]
     },
     "execution_count": 8,
     "metadata": {},
     "output_type": "execute_result"
    }
   ],
   "source": [
    "alphas_opt"
   ]
  },
  {
   "cell_type": "code",
   "execution_count": 26,
   "metadata": {},
   "outputs": [
    {
     "data": {
      "image/png": "[encoded data removed]",
      "text/plain": [
       "<matplotlib.figure.Figure at 0x7f1b67ad0470>"
      ]
     },
     "metadata": {},
     "output_type": "display_data"
    }
   ],
   "source": [
    "plt.plot(x_mins, alphas_opt, linestyle='-', color=colors[i], linewidth=2);\n",
    "\n",
    "#plt.plot(alphas, likelihoods, linestyle='-', color=colors[i], linewidth=2, marker='o', markerfacecolor=colors[i], markeredgecolor=colors[i], markersize=7, label=labels[i]);\n",
    "\n",
    "\n",
    "\n",
    "plt.xlabel(r'$N_{min}$', fontsize=16);\n",
    "plt.ylabel(r'$\\alpha_{est}$', fontsize=16);\n",
    "#plt.legend(loc=\"lower left\",fontsize=12);\n",
    "\n",
    "#plt.xticks([0.32, 0.41, 0.5, 0.6],['0.32', r'$p_c$',  '0.5','0.6'], rotation=90)\n",
    "#plt.text(phis[phis==0.32]-0.005, period[0, phis==0.32]-10, 'B', fontsize=14, fontweight='bold')\n",
    "plt.savefig(\"/home/xiaoling/correlated_percolation/figures/MaxArg_AlphaXmin_Phi50Rho0_Fra11.png\", dpi=500)\n",
    "plt.show()"
   ]
  },
  {
   "cell_type": "code",
   "execution_count": 2,
   "metadata": {},
   "outputs": [
    {
     "ename": "SyntaxError",
     "evalue": "Missing parentheses in call to 'print'. Did you mean print(int \"scipy didn't import.  Can't compute certain basic statistics.\")? (plfit.py, line 49)",
     "output_type": "error",
     "traceback": [
      "Traceback \u001b[0;36m(most recent call last)\u001b[0m:\n",
      "  File \u001b[1;32m\"/home/xiaoling/anaconda3/lib/python3.6/site-packages/IPython/core/interactiveshell.py\"\u001b[0m, line \u001b[1;32m2862\u001b[0m, in \u001b[1;35mrun_code\u001b[0m\n    exec(code_obj, self.user_global_ns, self.user_ns)\n",
      "  File \u001b[1;32m\"<ipython-input-2-11dd9bd25150>\"\u001b[0m, line \u001b[1;32m1\u001b[0m, in \u001b[1;35m<module>\u001b[0m\n    import plfit\n",
      "\u001b[0;36m  File \u001b[0;32m\"/home/xiaoling/anaconda3/lib/python3.6/site-packages/plfit/__init__.py\"\u001b[0;36m, line \u001b[0;32m2\u001b[0;36m, in \u001b[0;35m<module>\u001b[0;36m\u001b[0m\n\u001b[0;31m    from plfit import plfit\u001b[0m\n",
      "\u001b[0;36m  File \u001b[0;32m\"/home/xiaoling/anaconda3/lib/python3.6/site-packages/plfit/plfit.py\"\u001b[0;36m, line \u001b[0;32m49\u001b[0m\n\u001b[0;31m    print \"scipy didn't import.  Can't compute certain basic statistics.\"\u001b[0m\n\u001b[0m                                                                        ^\u001b[0m\n\u001b[0;31mSyntaxError\u001b[0m\u001b[0;31m:\u001b[0m Missing parentheses in call to 'print'. Did you mean print(int \"scipy didn't import.  Can't compute certain basic statistics.\")?\n"
     ]
    }
   ],
   "source": [
    "import plfit"
   ]
  },
  {
   "cell_type": "code",
   "execution_count": 28,
   "metadata": {},
   "outputs": [
    {
     "ename": "ModuleNotFoundError",
     "evalue": "No module named 'keras'",
     "output_type": "error",
     "traceback": [
      "\u001b[0;31m---------------------------------------------------------------------------\u001b[0m",
      "\u001b[0;31mModuleNotFoundError\u001b[0m                       Traceback (most recent call last)",
      "\u001b[0;32m<ipython-input-28-c74e2bd4ca71>\u001b[0m in \u001b[0;36m<module>\u001b[0;34m()\u001b[0m\n\u001b[0;32m----> 1\u001b[0;31m \u001b[0;32mimport\u001b[0m \u001b[0mkeras\u001b[0m\u001b[0;34m\u001b[0m\u001b[0m\n\u001b[0m",
      "\u001b[0;31mModuleNotFoundError\u001b[0m: No module named 'keras'"
     ]
    }
   ],
   "source": [
    "import keras"
   ]
  },
  {
   "cell_type": "code",
   "execution_count": null,
   "metadata": {},
   "outputs": [],
   "source": []
  }
 ],
 "metadata": {
  "kernelspec": {
   "display_name": "Python 3",
   "language": "python",
   "name": "python3"
  },
  "language_info": {
   "codemirror_mode": {
    "name": "ipython",
    "version": 3
   },
   "file_extension": ".py",
   "mimetype": "text/x-python",
   "name": "python",
   "nbconvert_exporter": "python",
   "pygments_lexer": "ipython3",
   "version": "3.6.8"
  }
 },
 "nbformat": 4,
 "nbformat_minor": 2
}
