{
 "cells": [
  {
   "cell_type": "code",
   "execution_count": 2,
   "metadata": {},
   "outputs": [],
   "source": [
    "import numpy as np    \n",
    "import matplotlib.pyplot as plt  \n",
    "from matplotlib.animation import FuncAnimation \n",
    "from matplotlib import cm\n",
    "from numpy.random import randn\n",
    "phis=[0.26, 0.28,0.30,0.32,0.34,0.36,0.38,0.40,0.42,0.44,0.46,0.48,0.50,0.52,0.54,0.56,0.58];\n",
    "phis=np.array(phis)\n",
    "period=[\n",
    "        [0.000000, 0.000000, 0.000000, 60.972222, 46.835368, 43.282646, 41.571740, 39.715946, 37.991343, 37.223450, 36.671378, 36.180877, 35.500931, 35.122979, 35.092972, 35.018518, 34.263445],\n",
    "        [0.000000, 0.000000, 0.000000, 4.008144, 1.300108, 0.785706, 0.481996, 0.309805, 0.239762, 0.184011, 0.172970, 0.161562, 0.162885, 0.160239, 0.190031, 0.295587, 0.648966] ];\n",
    "anchor=[\n",
    "    [0.000000, 0.000000, 0.000000, 79.605390, 75.638882, 70.618719, 60.967620, 47.056974, 27.738574, 17.871185, 12.174746, 9.065377, 7.167905, 5.857956, 5.000201, 4.372430, 3.774901],\n",
    "[0.000000, 0.000000, 0.000000, 0.292154, 0.481186, 0.782072, 0.848075, 0.833133, 0.436526, 0.246805, 0.109939, 0.069198, 0.039107, 0.028964, 0.023894, 0.029861, 0.052466]]\n",
    "period=np.array(period)\n",
    "anchor=np.array(anchor)\n",
    "epsilon=10;\n",
    "\n"
   ]
  },
  {
   "cell_type": "code",
   "execution_count": null,
   "metadata": {},
   "outputs": [],
   "source": []
  },
  {
   "cell_type": "code",
   "execution_count": 9,
   "metadata": {},
   "outputs": [
    {
     "data": {
      "image/png": "[encoded data removed]",
      "text/plain": [
       "<matplotlib.figure.Figure at 0x7f116ce3bb70>"
      ]
     },
     "metadata": {},
     "output_type": "display_data"
    }
   ],
   "source": [
    "plt.figure()\n",
    "plt.plot(phis[phis>0.3 ], anchor[0,phis>0.3 ]*np.pi/np.sqrt(epsilon/2), linestyle='--', linewidth=3,color=[0, 1, 1], label='prediction');\n",
    "plt.errorbar(phis[ phis>0.3 ], period[0,phis>0.3 ], period[1, phis>0.3], linestyle='', linewidth=3, marker='o',\n",
    "    markersize=7,color=[0,1,1], label='simulation');\n",
    "plt.plot([0.41, 0.41], [0, 100], linestyle='-.', linewidth=2, color=[0,0,0])\n",
    "    #plt.plot(phis, PeriodSet[k,:], linestyle='-.', linewidth=3, color=ColMap[2,:], marker='o',\n",
    "    #  markersize=7, label=r'$\\rho=$'+str(rhos[k]) )\n",
    "    #line2,=plt.plot(x,x**1.5, linestyle='-', color=(1,0,0), linewidth=4, marker='^',\n",
    "    # markerfacecolor='blue', markeredgecolor='r', markersize=12, label='example 2')\n",
    "\n",
    "    \n",
    "#plt.plot(np.arange(5, 40,0.5), 10+1.4*np.arange(5, 40,0.5), linestyle='--', linewidth=3, label='preoooo')\n",
    "plt.legend(loc=\"lower left\", fontsize=12)     \n",
    "\n",
    "#plt.axis([0, 12, 0, 120])\n",
    "plt.ylim( (0,120))\n",
    "#plt.xlim( (0.28, 0.6))\n",
    "plt.xlabel(r'$\\phi$', fontsize=16)\n",
    "plt.ylabel(r'period, $T$', fontsize=16)\n",
    "#plt.title(r\"$\\rho=0$\", fontsize=18)\n",
    "plt.xticks([0.32, 0.41, 0.5, 0.6],['0.32', r'$p_c$',  '0.5','0.6'])\n",
    "#plt.yticks([40,80, 120], ['40','80','120'], fontsize=11);\n",
    "#plt.legend([line1, line2], ['ex1','ex2'])\n",
    "plt.text(phis[phis==0.32]-0.005, period[0, phis==0.32]-10, 'B', fontsize=14, fontweight='bold')\n",
    "plt.text(phis[phis==0.42]-0.005, period[0, phis==0.42]-10, 'C',fontsize=14,fontweight= 'bold')\n",
    "plt.text(phis[phis==0.54]-0.005, period[0, phis==0.54]-10,'D',fontsize=14, fontweight='bold')\n",
    "\n",
    "# Pad margins so that markers don't get clipped by the axes\n",
    "#plt.margins(0.2)\n",
    "# Tweak spacing to prevent clipping of tick-labels\n",
    "plt.subplots_adjust(bottom=0.15)\n",
    "\n",
    "plt.text(0.26, 120, \"A\", {'color': 'k', 'fontsize': 20, 'fontweight': 'bold'},\n",
    "         horizontalalignment='left',\n",
    "         verticalalignment='top',\n",
    "         rotation=0,\n",
    "         clip_on=False)\n",
    "         #transform=plt.gca().transAxes)\n",
    "    \n",
    "a = plt.axes([0.5, 0.5, 0.4, 0.38], facecolor=[0.8, 0.8, 0.8])\n",
    "ColMap=[\n",
    "        [255,0,255],  #magenta\n",
    "        [255,165,0], #orange\n",
    "        [0, 128, 0] ]; #green\n",
    "ColMap=np.array(ColMap)/255;\n",
    "\n",
    "\n",
    "phis1=[0.430, 0.434, 0.438, 0.443, 0.449, 0.456, 0.464, 0.474, 0.485, 0.497, 0.512, 0.529, 0.549, 0.573, 0.600];\n",
    "Ns=np.array([100, 300, 1000])\n",
    "phis1=np.array(phis1)\n",
    "anchor1=[[537.396662, 429.488303, 370.148885, 288.333099, 230.644475, 178.202853, 130.676830, 98.354129, 74.865087, 54.848998, 40.458484, 29.822535, 21.956966, 15.886646, 11.631623], \n",
    "[1043.004852, 752.102316, 579.503111, 427.093480, 308.893267, 225.701588, 163.560270, 116.006541, 82.726347, 61.627734, 43.867400, 31.924605, 23.154784, 16.601100, 12.042875], \n",
    "[1333.578003, 933.886435, 682.953682, 489.664262, 347.095038, 245.655024, 174.598196, 121.890170, 87.172788, 63.416073, 45.243869, 32.648838, 23.517704, 16.807869, 12.180527] ]\n",
    "anchor1=np.array(anchor1); \n",
    "for i in range(len(Ns)):\n",
    "    plt.loglog(phis1- 0.407, anchor1[i,:],linestyle='-', linewidth=2, color=ColMap[i,:], label='N='+str(Ns[i]) )\n",
    "\n",
    "plt.legend(loc=\"lower left\", fontsize=12) \n",
    "plt.legend(frameon=False)\n",
    "plt.loglog(phis1[6:10:1]- 0.407,( (phis1[6:10:1]-0.407)**(-43*2/36) )/4,'-',  linewidth=3, color='k' )\n",
    "plt.xlim([0.01,0.22]);\n",
    "\n",
    "plt.text(0.03,4, r'$\\phi-p_c$', fontsize=16)\n",
    "plt.text(0.005,400, r'$n_{off}$', fontsize=16, rotation=90)\n",
    "plt.text(0.065,150, r'$-\\gamma$', fontsize=16)\n",
    "    \n",
    "    \n",
    "\n",
    "\n",
    "\n",
    "\n",
    "\n",
    "\n",
    "plt.savefig(\"/home/xiaoling/SpiralWave/PapFig/Lin_PerStruAnc_Phi_2.png\", dpi=500)\n",
    "plt.show()"
   ]
  },
  {
   "cell_type": "code",
   "execution_count": 47,
   "metadata": {},
   "outputs": [
    {
     "name": "stdout",
     "output_type": "stream",
     "text": [
      "[ 0.43   0.434  0.438  0.443  0.449  0.456  0.464  0.474  0.485  0.497\n",
      "  0.512  0.529  0.549  0.573  0.6  ]\n",
      "[[  537.396662   429.488303   370.148885   288.333099   230.644475\n",
      "    178.202853   130.67683     98.354129    74.865087    54.848998\n",
      "     40.458484    29.822535    21.956966    15.886646    11.631623]\n",
      " [ 1043.004852   752.102316   579.503111   427.09348    308.893267\n",
      "    225.701588   163.56027    116.006541    82.726347    61.627734\n",
      "     43.8674      31.924605    23.154784    16.6011      12.042875]\n",
      " [ 1333.578003   933.886435   682.953682   489.664262   347.095038\n",
      "    245.655024   174.598196   121.89017     87.172788    63.416073\n",
      "     45.243869    32.648838    23.517704    16.807869    12.180527]]\n",
      "(15,)\n",
      "(3, 15)\n",
      "[[ 1.13333333  0.          1.13333333]\n",
      " [ 0.56888889  0.          0.56888889]\n",
      " [ 1.13333333  0.73333333  0.        ]]\n"
     ]
    }
   ],
   "source": [
    "print(phis1)\n",
    "print(anchor1)\n",
    "print(phis1.shape)\n",
    "print(anchor1.shape)\n",
    "print(ColMap)"
   ]
  },
  {
   "cell_type": "code",
   "execution_count": 6,
   "metadata": {},
   "outputs": [
    {
     "ename": "TypeError",
     "evalue": "'numpy.ndarray' object is not callable",
     "output_type": "error",
     "traceback": [
      "\u001b[0;31m---------------------------------------------------------------------------\u001b[0m",
      "\u001b[0;31mTypeError\u001b[0m                                 Traceback (most recent call last)",
      "\u001b[0;32m<ipython-input-6-161673a168fd>\u001b[0m in \u001b[0;36m<module>\u001b[0;34m()\u001b[0m\n\u001b[1;32m      1\u001b[0m \u001b[0mplt\u001b[0m\u001b[0;34m.\u001b[0m\u001b[0mfigure\u001b[0m\u001b[0;34m(\u001b[0m\u001b[0;34m)\u001b[0m\u001b[0;34m\u001b[0m\u001b[0m\n\u001b[0;32m----> 2\u001b[0;31m plt.plot(phis(phis>0.3 ), anchor(1,phis>0.3 )*pi/sqrt(epsilon/2), linestyle='--', linewidth=3, marker='o',\n\u001b[0m\u001b[1;32m      3\u001b[0m     markersize=4,color='g', label='prediction');\n",
      "\u001b[0;31mTypeError\u001b[0m: 'numpy.ndarray' object is not callable"
     ]
    }
   ],
   "source": [
    "plt.figure()\n",
    "plt.plot(phis(phis>0.3 ), anchor(1,phis>0.3 )*pi/sqrt(epsilon/2), linestyle='--', linewidth=3, marker='o',\n",
    "    markersize=4,color='g', label='prediction');"
   ]
  },
  {
   "cell_type": "code",
   "execution_count": null,
   "metadata": {},
   "outputs": [],
   "source": []
  }
 ],
 "metadata": {
  "kernelspec": {
   "display_name": "Python 3",
   "language": "python",
   "name": "python3"
  },
  "language_info": {
   "codemirror_mode": {
    "name": "ipython",
    "version": 3
   },
   "file_extension": ".py",
   "mimetype": "text/x-python",
   "name": "python",
   "nbconvert_exporter": "python",
   "pygments_lexer": "ipython3",
   "version": "3.6.8"
  }
 },
 "nbformat": 4,
 "nbformat_minor": 2
}
