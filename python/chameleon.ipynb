{
 "cells": [
  {
   "cell_type": "code",
   "execution_count": 2,
   "metadata": {},
   "outputs": [],
   "source": [
    "import cv2\n",
    "import matplotlib.pyplot as plt\n",
    "import numpy as np"
   ]
  },
  {
   "cell_type": "code",
   "execution_count": 5,
   "metadata": {},
   "outputs": [],
   "source": [
    "names=[\"biofilm_random_bio.tif\", \"biofilm_random_ran.tif\"]\n",
    "\n",
    "for k in range( len(names) ):\n",
    "    image = cv2.imread( \"/home/xiaoling/SpiralWave/PapFig/\"+ names[k], 1  ) \n",
    "    #image = cv2.imread(\"/home/xiaoling/SpiralWave/Review/\"+ names[i] +  \"_1.png\", 1  ) #Opencv always (AFAIK) uses BGR channel order\n",
    "\n",
    "    for i in range( len(image) ):\n",
    "        for j in range( len(image[0]) ):\n",
    "\n",
    "                white= np.sum( image[i,j,:] )/3/255\n",
    "                if white>= 0.5 and k==0:\n",
    "                    image[i, j, :]= [int(255*white), int(255* white), 0 ]\n",
    "                elif white>= 0.5 and k==1:\n",
    "                    image[i,j,:]= [int(255/4*white), int(255/4*white), int(255/4*white) ]\n",
    "                    \n",
    "            #else: keep the white background\n",
    "    cv2.imwrite(\"/home/xiaoling/SpiralWave/PapFig/\"+ names[k] +\"_chameleon.png\", image)\n"
   ]
  },
  {
   "cell_type": "code",
   "execution_count": null,
   "metadata": {},
   "outputs": [],
   "source": []
  }
 ],
 "metadata": {
  "kernelspec": {
   "display_name": "Python 3",
   "language": "python",
   "name": "python3"
  },
  "language_info": {
   "codemirror_mode": {
    "name": "ipython",
    "version": 3
   },
   "file_extension": ".py",
   "mimetype": "text/x-python",
   "name": "python",
   "nbconvert_exporter": "python",
   "pygments_lexer": "ipython3",
   "version": "3.6.8"
  }
 },
 "nbformat": 4,
 "nbformat_minor": 2
}
